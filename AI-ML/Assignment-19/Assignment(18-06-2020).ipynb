{
 "cells": [
  {
   "cell_type": "markdown",
   "metadata": {},
   "source": [
    "# CSE-221710305047-SAI_D_VETUKURI"
   ]
  },
  {
   "cell_type": "markdown",
   "metadata": {},
   "source": [
    "Take any dataset of your choice from Kaggle or UCI and do the analysis on the data<br>\n",
    "- Load the dataset in a proper structure\n",
    "- Get the number of rows and columns from the dataset\n",
    "- Check how many categorical and numerical columns are there\n",
    "    \n",
    "    Categorical - object type\n",
    "    \n",
    "    Numerical - int,float\n",
    "    \n",
    "    Boolean - bool\n",
    "- Get the basic descriptive information from the dataset  \n",
    "- Get the frequency of the categories in all the columns of the dataset\n",
    "- Check for the missing values and if found any visualize the missing values using seaborn, missingno libraries.\n",
    "- Impute the missing values based on numerical and categorical\n",
    "- Plot all the columns from the dataset; try to get some observations from the plot and write your inferences below the plots generated\n",
    "- Select any column as output  from the dataset and plot the output column with some of the input columns, which are suitable from your data columns\n",
    "- Encode the categorical columns using different kinds of encoding techniques from pandas and scikit-learn\n"
   ]
  },
  {
   "cell_type": "code",
   "execution_count": null,
   "metadata": {},
   "outputs": [],
   "source": [
    "import numpy as np\n",
    "import pandas as pd\n",
    "import seaborn as sns\n",
    "import matplotlib.pyplot as plt\n",
    "%matplotlib inline"
   ]
  },
  {
   "cell_type": "code",
   "execution_count": null,
   "metadata": {},
   "outputs": [],
   "source": [
    "df=pd.read_csv(\"placement.csv\",names=['Sno.','Sex','SSC Percentage','SSC Board','Inter Percentage','Inter Board','Inter Stream','Degree Percentage','Degree Stream','Work Experience','Etest Percentage','Specialisation','MBA Percentage','Status','Salary'],header=0)\n",
    "df"
   ]
  },
  {
   "cell_type": "code",
   "execution_count": null,
   "metadata": {},
   "outputs": [],
   "source": [
    "# Get the number of rows and columns from the dataset\n",
    "print(df.shape[0])# no. of rows\n",
    "print(df.shape[1])# no. of columns"
   ]
  },
  {
   "cell_type": "code",
   "execution_count": null,
   "metadata": {},
   "outputs": [],
   "source": [
    "#Check how many categorical and numerical columns are there\n",
    "print(len(df.select_dtypes(include=['object']).columns)) # no of Categorial columns\n",
    "print(len(df.select_dtypes(include=['int64','float64']).columns)) # no of Numerical columns"
   ]
  },
  {
   "cell_type": "code",
   "execution_count": null,
   "metadata": {},
   "outputs": [],
   "source": [
    "#Get the basic descriptive information from the dataset\n",
    "df.info()"
   ]
  },
  {
   "cell_type": "code",
   "execution_count": null,
   "metadata": {},
   "outputs": [],
   "source": [
    "df.describe()"
   ]
  },
  {
   "cell_type": "code",
   "execution_count": null,
   "metadata": {},
   "outputs": [],
   "source": [
    "# Get the frequency of the categories in all the columns of the dataset\n",
    "df.Sex.value_counts()"
   ]
  },
  {
   "cell_type": "code",
   "execution_count": null,
   "metadata": {},
   "outputs": [],
   "source": [
    "df['SSC Board'].value_counts()"
   ]
  },
  {
   "cell_type": "code",
   "execution_count": null,
   "metadata": {},
   "outputs": [],
   "source": [
    "df['Inter Board'].value_counts()"
   ]
  },
  {
   "cell_type": "code",
   "execution_count": null,
   "metadata": {},
   "outputs": [],
   "source": [
    "df['Inter Stream'].value_counts()"
   ]
  },
  {
   "cell_type": "code",
   "execution_count": null,
   "metadata": {},
   "outputs": [],
   "source": [
    "df['Degree Stream'].value_counts()"
   ]
  },
  {
   "cell_type": "code",
   "execution_count": null,
   "metadata": {},
   "outputs": [],
   "source": [
    "df.Specialisation.value_counts()"
   ]
  },
  {
   "cell_type": "code",
   "execution_count": null,
   "metadata": {},
   "outputs": [],
   "source": [
    "df.Status.value_counts()"
   ]
  },
  {
   "cell_type": "code",
   "execution_count": null,
   "metadata": {},
   "outputs": [],
   "source": [
    "#Check for the missing values and if found any visualize the missing values using seaborn, missingno libraries.\n",
    "df.isnull().sum()"
   ]
  },
  {
   "cell_type": "code",
   "execution_count": null,
   "metadata": {},
   "outputs": [],
   "source": [
    "sns.heatmap(df.isna())"
   ]
  },
  {
   "cell_type": "code",
   "execution_count": null,
   "metadata": {},
   "outputs": [],
   "source": [
    "import missingno as msno\n",
    "msno.matrix(df)"
   ]
  },
  {
   "cell_type": "code",
   "execution_count": null,
   "metadata": {},
   "outputs": [],
   "source": [
    "msno.bar(df)"
   ]
  },
  {
   "cell_type": "code",
   "execution_count": null,
   "metadata": {},
   "outputs": [],
   "source": [
    "# Impute the missing values based on numerical and categorical\n",
    "df_mean_imputed = df.fillna(df.mean())\n",
    "df_median_imputed = df.fillna(df.median())\n",
    "df_zero_imputed = df.fillna(0)"
   ]
  },
  {
   "cell_type": "code",
   "execution_count": null,
   "metadata": {},
   "outputs": [],
   "source": [
    "df_mean_imputed"
   ]
  },
  {
   "cell_type": "code",
   "execution_count": null,
   "metadata": {},
   "outputs": [],
   "source": [
    "df_median_imputed"
   ]
  },
  {
   "cell_type": "code",
   "execution_count": null,
   "metadata": {},
   "outputs": [],
   "source": [
    "df_zero_imputed"
   ]
  },
  {
   "cell_type": "code",
   "execution_count": null,
   "metadata": {},
   "outputs": [],
   "source": [
    "# Plot all the columns from the dataset; try to get some observations from the plot and write your inferences below the plots generated\n",
    "df.hist(figsize=(12,12))"
   ]
  },
  {
   "cell_type": "code",
   "execution_count": null,
   "metadata": {},
   "outputs": [],
   "source": [
    "df.Sex.value_counts(normalize=True)"
   ]
  },
  {
   "cell_type": "code",
   "execution_count": null,
   "metadata": {},
   "outputs": [],
   "source": [
    "sns.countplot(df['Sex'])"
   ]
  },
  {
   "cell_type": "code",
   "execution_count": null,
   "metadata": {},
   "outputs": [],
   "source": [
    "(df.Sex.value_counts(normalize=True)*100).plot.barh()"
   ]
  },
  {
   "cell_type": "code",
   "execution_count": null,
   "metadata": {},
   "outputs": [],
   "source": [
    "(df.Sex.value_counts(normalize=True)*100).plot.barh().set_title(\"No of Males and Females\")"
   ]
  },
  {
   "cell_type": "code",
   "execution_count": null,
   "metadata": {},
   "outputs": [],
   "source": [
    "# Encode the categorical columns using different kinds of encoding techniques from pandas and scikit-learn\n",
    "merge_data=pd.get_dummies(df,columns=['Sex','SSC Board','Inter Board','Inter Stream','Degree Stream','Work Experience','Specialisation','Status'])\n",
    "merge_data"
   ]
  },
  {
   "cell_type": "code",
   "execution_count": null,
   "metadata": {},
   "outputs": [],
   "source": [
    "from sklearn.preprocessing import StandardScaler\n",
    "sc = StandardScaler() # creating an object\n",
    "merge_data=sc.fit_transform(merge_data)\n",
    "merge_data"
   ]
  },
  {
   "cell_type": "code",
   "execution_count": null,
   "metadata": {},
   "outputs": [],
   "source": [
    "merge_data=pd.DataFrame(merge_data)\n",
    "merge_data"
   ]
  },
  {
   "cell_type": "code",
   "execution_count": null,
   "metadata": {},
   "outputs": [],
   "source": [
    "from sklearn.preprocessing import OneHotEncoder\n",
    "from sklearn.compose import ColumnTransformer\n",
    "\n",
    "c_t=ColumnTransformer(transformers=[('Encoder',OneHotEncoder(),['Status'])],remainder=\"passthrough\")\n",
    "\n",
    "data1=c_t.fit_transform(df)\n",
    "data1=pd.DataFrame(data1)\n",
    "data1=data1.iloc[:,0:2]\n",
    "data1.columns=['Status_Placed','Status_Not Placed']\n",
    "data1=pd.concat([df,data1],axis=1)\n",
    "data1=data1.drop('Status',axis=1)\n",
    "data1"
   ]
  },
  {
   "cell_type": "code",
   "execution_count": null,
   "metadata": {},
   "outputs": [],
   "source": [
    "from sklearn.preprocessing import LabelEncoder\n",
    "le=LabelEncoder()\n",
    "data1.Sex=le.fit_transform(data1.Sex)\n",
    "data1"
   ]
  },
  {
   "cell_type": "code",
   "execution_count": null,
   "metadata": {},
   "outputs": [],
   "source": []
  }
 ],
 "metadata": {
  "kernelspec": {
   "display_name": "Python 3",
   "language": "python",
   "name": "python3"
  },
  "language_info": {
   "codemirror_mode": {
    "name": "ipython",
    "version": 3
   },
   "file_extension": ".py",
   "mimetype": "text/x-python",
   "name": "python",
   "nbconvert_exporter": "python",
   "pygments_lexer": "ipython3",
   "version": "3.7.6"
  }
 },
 "nbformat": 4,
 "nbformat_minor": 4
}
