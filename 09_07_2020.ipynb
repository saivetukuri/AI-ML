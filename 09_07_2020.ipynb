{
  "nbformat": 4,
  "nbformat_minor": 0,
  "metadata": {
    "colab": {
      "name": "09-07-2020",
      "provenance": [],
      "collapsed_sections": []
    },
    "kernelspec": {
      "name": "python3",
      "display_name": "Python 3"
    }
  },
  "cells": [
    {
      "cell_type": "code",
      "metadata": {
        "id": "cI0Yml4mtb8A",
        "colab_type": "code",
        "colab": {}
      },
      "source": [
        "import tensorflow as tf\n",
        "import tensorflow.keras as keras\n",
        "import numpy as np\n",
        "import matplotlib.pyplot as plt\n",
        "%matplotlib inline"
      ],
      "execution_count": 66,
      "outputs": []
    },
    {
      "cell_type": "markdown",
      "metadata": {
        "id": "OZfQjZdovg8Q",
        "colab_type": "text"
      },
      "source": [
        "# Load the MNIST dataset"
      ]
    },
    {
      "cell_type": "code",
      "metadata": {
        "id": "5ULM91Eetn4b",
        "colab_type": "code",
        "colab": {}
      },
      "source": [
        "from keras.datasets.mnist import load_data"
      ],
      "execution_count": 67,
      "outputs": []
    },
    {
      "cell_type": "code",
      "metadata": {
        "id": "1Gg6HJTyvtjH",
        "colab_type": "code",
        "colab": {
          "base_uri": "https://localhost:8080/",
          "height": 34
        },
        "outputId": "9d3f45f3-aa63-4241-c3e5-b491c373a427"
      },
      "source": [
        "## load_data -- return value is two tuples train_test\n",
        "(train_digits,train_labels),(test_digits,test_labels)=load_data()\n",
        "print(train_digits.shape)"
      ],
      "execution_count": 68,
      "outputs": [
        {
          "output_type": "stream",
          "text": [
            "(60000, 28, 28)\n"
          ],
          "name": "stdout"
        }
      ]
    },
    {
      "cell_type": "markdown",
      "metadata": {
        "id": "1aY5hRa9wZcS",
        "colab_type": "text"
      },
      "source": [
        "There are 60000 images in the training data.Each image size is 28*28"
      ]
    },
    {
      "cell_type": "code",
      "metadata": {
        "id": "4C8BenSrwHJ_",
        "colab_type": "code",
        "colab": {
          "base_uri": "https://localhost:8080/",
          "height": 34
        },
        "outputId": "43b7b39e-cd33-42e6-a3d7-53c8adab952b"
      },
      "source": [
        "print(test_digits.shape)"
      ],
      "execution_count": 69,
      "outputs": [
        {
          "output_type": "stream",
          "text": [
            "(10000, 28, 28)\n"
          ],
          "name": "stdout"
        }
      ]
    },
    {
      "cell_type": "markdown",
      "metadata": {
        "id": "5mVuTI0zxUk8",
        "colab_type": "text"
      },
      "source": [
        "There are 10 classes from class 0 to class 9"
      ]
    },
    {
      "cell_type": "code",
      "metadata": {
        "id": "fa-m4-DnxAuo",
        "colab_type": "code",
        "colab": {
          "base_uri": "https://localhost:8080/",
          "height": 34
        },
        "outputId": "af5c4959-5dce-454e-906c-0db60521099c"
      },
      "source": [
        "print(train_labels.shape)"
      ],
      "execution_count": 70,
      "outputs": [
        {
          "output_type": "stream",
          "text": [
            "(60000,)\n"
          ],
          "name": "stdout"
        }
      ]
    },
    {
      "cell_type": "markdown",
      "metadata": {
        "id": "wdoTdN3sx9FT",
        "colab_type": "text"
      },
      "source": [
        "Class Wise images count"
      ]
    },
    {
      "cell_type": "code",
      "metadata": {
        "id": "7cisdvQJxcb0",
        "colab_type": "code",
        "colab": {
          "base_uri": "https://localhost:8080/",
          "height": 34
        },
        "outputId": "4fbea70b-6712-46c8-9b68-283a51c32b1d"
      },
      "source": [
        "type(train_labels)"
      ],
      "execution_count": 71,
      "outputs": [
        {
          "output_type": "execute_result",
          "data": {
            "text/plain": [
              "numpy.ndarray"
            ]
          },
          "metadata": {
            "tags": []
          },
          "execution_count": 71
        }
      ]
    },
    {
      "cell_type": "code",
      "metadata": {
        "id": "vYfUAZtzycMJ",
        "colab_type": "code",
        "colab": {
          "base_uri": "https://localhost:8080/",
          "height": 202
        },
        "outputId": "d2de85a1-9dc7-49de-8954-a00ac297878f"
      },
      "source": [
        "import pandas as pd\n",
        "pd.Series(train_labels).value_counts()"
      ],
      "execution_count": 72,
      "outputs": [
        {
          "output_type": "execute_result",
          "data": {
            "text/plain": [
              "1    6742\n",
              "7    6265\n",
              "3    6131\n",
              "2    5958\n",
              "9    5949\n",
              "0    5923\n",
              "6    5918\n",
              "8    5851\n",
              "4    5842\n",
              "5    5421\n",
              "dtype: int64"
            ]
          },
          "metadata": {
            "tags": []
          },
          "execution_count": 72
        }
      ]
    },
    {
      "cell_type": "code",
      "metadata": {
        "id": "T3dJ9gFKy7WP",
        "colab_type": "code",
        "colab": {
          "base_uri": "https://localhost:8080/",
          "height": 202
        },
        "outputId": "da5c153e-d754-466d-943d-3b3ca845f9d5"
      },
      "source": [
        "pd.Series(test_labels).value_counts()"
      ],
      "execution_count": 73,
      "outputs": [
        {
          "output_type": "execute_result",
          "data": {
            "text/plain": [
              "1    1135\n",
              "2    1032\n",
              "7    1028\n",
              "3    1010\n",
              "9    1009\n",
              "4     982\n",
              "0     980\n",
              "8     974\n",
              "6     958\n",
              "5     892\n",
              "dtype: int64"
            ]
          },
          "metadata": {
            "tags": []
          },
          "execution_count": 73
        }
      ]
    },
    {
      "cell_type": "markdown",
      "metadata": {
        "id": "Nl4tmWbUz7K7",
        "colab_type": "text"
      },
      "source": [
        "EDA"
      ]
    },
    {
      "cell_type": "code",
      "metadata": {
        "id": "CjB9Za1qzNsI",
        "colab_type": "code",
        "colab": {
          "base_uri": "https://localhost:8080/",
          "height": 282
        },
        "outputId": "8b0b6543-f188-4044-d95d-f1617e593acd"
      },
      "source": [
        "plt.imshow(train_digits[0])"
      ],
      "execution_count": 74,
      "outputs": [
        {
          "output_type": "execute_result",
          "data": {
            "text/plain": [
              "<matplotlib.image.AxesImage at 0x7fe64587d0f0>"
            ]
          },
          "metadata": {
            "tags": []
          },
          "execution_count": 74
        },
        {
          "output_type": "display_data",
          "data": {
            "image/png": "[encoded data removed]",
            "text/plain": [
              "<Figure size 432x288 with 1 Axes>"
            ]
          },
          "metadata": {
            "tags": [],
            "needs_background": "light"
          }
        }
      ]
    },
    {
      "cell_type": "code",
      "metadata": {
        "id": "oOKXq0Fe0Dpz",
        "colab_type": "code",
        "colab": {
          "base_uri": "https://localhost:8080/",
          "height": 298
        },
        "outputId": "c520ba84-3438-42f2-84fa-aefcd9e64737"
      },
      "source": [
        "plt.imshow(train_digits[0],cmap='gray')\n",
        "plt.title(\"Digit \"+str(train_labels[0]))"
      ],
      "execution_count": 75,
      "outputs": [
        {
          "output_type": "execute_result",
          "data": {
            "text/plain": [
              "Text(0.5, 1.0, 'Digit 5')"
            ]
          },
          "metadata": {
            "tags": []
          },
          "execution_count": 75
        },
        {
          "output_type": "display_data",
          "data": {
            "image/png": "[encoded data removed]",
            "text/plain": [
              "<Figure size 432x288 with 1 Axes>"
            ]
          },
          "metadata": {
            "tags": [],
            "needs_background": "light"
          }
        }
      ]
    },
    {
      "cell_type": "code",
      "metadata": {
        "id": "R3adXQM60VIl",
        "colab_type": "code",
        "colab": {
          "base_uri": "https://localhost:8080/",
          "height": 786
        },
        "outputId": "74fefd8a-27b2-478d-adf6-e1f5080ce807"
      },
      "source": [
        "plt.hist(train_digits[0])"
      ],
      "execution_count": 76,
      "outputs": [
        {
          "output_type": "execute_result",
          "data": {
            "text/plain": [
              "(array([[28.,  0.,  0.,  0.,  0.,  0.,  0.,  0.,  0.,  0.],\n",
              "        [28.,  0.,  0.,  0.,  0.,  0.,  0.,  0.,  0.,  0.],\n",
              "        [28.,  0.,  0.,  0.,  0.,  0.,  0.,  0.,  0.,  0.],\n",
              "        [28.,  0.,  0.,  0.,  0.,  0.,  0.,  0.,  0.,  0.],\n",
              "        [26.,  0.,  1.,  0.,  0.,  1.,  0.,  0.,  0.,  0.],\n",
              "        [26.,  0.,  0.,  0.,  0.,  0.,  1.,  0.,  0.,  1.],\n",
              "        [26.,  0.,  0.,  0.,  0.,  0.,  0.,  0.,  1.,  1.],\n",
              "        [24.,  1.,  0.,  0.,  0.,  0.,  1.,  0.,  0.,  2.],\n",
              "        [21.,  1.,  0.,  1.,  0.,  0.,  0.,  0.,  3.,  2.],\n",
              "        [20.,  1.,  1.,  0.,  0.,  1.,  1.,  0.,  0.,  4.],\n",
              "        [20.,  0.,  0.,  1.,  1.,  1.,  0.,  0.,  1.,  4.],\n",
              "        [18.,  0.,  0.,  0.,  1.,  1.,  2.,  0.,  0.,  6.],\n",
              "        [15.,  2.,  0.,  0.,  0.,  1.,  1.,  1.,  1.,  7.],\n",
              "        [15.,  0.,  0.,  2.,  0.,  1.,  0.,  2.,  1.,  7.],\n",
              "        [16.,  2.,  1.,  1.,  0.,  0.,  0.,  1.,  2.,  5.],\n",
              "        [18.,  0.,  0.,  0.,  0.,  1.,  1.,  3.,  0.,  5.],\n",
              "        [15.,  1.,  0.,  2.,  2.,  0.,  0.,  1.,  0.,  7.],\n",
              "        [16.,  0.,  0.,  0.,  1.,  1.,  1.,  1.,  0.,  8.],\n",
              "        [19.,  0.,  0.,  2.,  0.,  1.,  1.,  0.,  1.,  4.],\n",
              "        [20.,  2.,  0.,  1.,  0.,  0.,  1.,  2.,  1.,  1.],\n",
              "        [24.,  0.,  1.,  1.,  0.,  0.,  1.,  0.,  0.,  1.],\n",
              "        [25.,  0.,  1.,  0.,  0.,  0.,  0.,  0.,  0.,  2.],\n",
              "        [25.,  1.,  0.,  0.,  0.,  0.,  0.,  1.,  0.,  1.],\n",
              "        [26.,  0.,  1.,  0.,  1.,  0.,  0.,  0.,  0.,  0.],\n",
              "        [28.,  0.,  0.,  0.,  0.,  0.,  0.,  0.,  0.,  0.],\n",
              "        [28.,  0.,  0.,  0.,  0.,  0.,  0.,  0.,  0.,  0.],\n",
              "        [28.,  0.,  0.,  0.,  0.,  0.,  0.,  0.,  0.,  0.],\n",
              "        [28.,  0.,  0.,  0.,  0.,  0.,  0.,  0.,  0.,  0.]]),\n",
              " array([  0. ,  25.5,  51. ,  76.5, 102. , 127.5, 153. , 178.5, 204. ,\n",
              "        229.5, 255. ]),\n",
              " <a list of 28 Lists of Patches objects>)"
            ]
          },
          "metadata": {
            "tags": []
          },
          "execution_count": 76
        },
        {
          "output_type": "display_data",
          "data": {
            "image/png": "[encoded data removed]",
            "text/plain": [
              "<Figure size 432x288 with 1 Axes>"
            ]
          },
          "metadata": {
            "tags": [],
            "needs_background": "light"
          }
        }
      ]
    },
    {
      "cell_type": "code",
      "metadata": {
        "id": "8Ln6aMkn16tE",
        "colab_type": "code",
        "colab": {
          "base_uri": "https://localhost:8080/",
          "height": 332
        },
        "outputId": "2c95bfa1-f234-48c8-a6d9-66a7a9a67f74"
      },
      "source": [
        "plt.hist(train_digits[0].flat)"
      ],
      "execution_count": 77,
      "outputs": [
        {
          "output_type": "execute_result",
          "data": {
            "text/plain": [
              "(array([639.,  11.,   6.,  11.,   6.,   9.,  11.,  12.,  11.,  68.]),\n",
              " array([  0. ,  25.5,  51. ,  76.5, 102. , 127.5, 153. , 178.5, 204. ,\n",
              "        229.5, 255. ]),\n",
              " <a list of 10 Patch objects>)"
            ]
          },
          "metadata": {
            "tags": []
          },
          "execution_count": 77
        },
        {
          "output_type": "display_data",
          "data": {
            "image/png": "[encoded data removed]",
            "text/plain": [
              "<Figure size 432x288 with 1 Axes>"
            ]
          },
          "metadata": {
            "tags": [],
            "needs_background": "light"
          }
        }
      ]
    },
    {
      "cell_type": "code",
      "metadata": {
        "id": "kV12z0Nj1AyS",
        "colab_type": "code",
        "colab": {
          "base_uri": "https://localhost:8080/",
          "height": 265
        },
        "outputId": "ff8f5945-12f6-4fbc-a11b-81cb4ecc4e53"
      },
      "source": [
        "plt.hist(train_digits[0],bins=255)\n",
        "plt.show()"
      ],
      "execution_count": 78,
      "outputs": [
        {
          "output_type": "display_data",
          "data": {
            "image/png": "[encoded data removed]",
            "text/plain": [
              "<Figure size 432x288 with 1 Axes>"
            ]
          },
          "metadata": {
            "tags": [],
            "needs_background": "light"
          }
        }
      ]
    },
    {
      "cell_type": "code",
      "metadata": {
        "id": "5MRatEDm2QBO",
        "colab_type": "code",
        "colab": {
          "base_uri": "https://localhost:8080/",
          "height": 265
        },
        "outputId": "29e1f5f3-cf28-4b88-f712-ea4ed333dc24"
      },
      "source": [
        "plt.hist(train_digits[0].flat,bins=255)\n",
        "plt.show()"
      ],
      "execution_count": 79,
      "outputs": [
        {
          "output_type": "display_data",
          "data": {
            "image/png": "[encoded data removed]",
            "text/plain": [
              "<Figure size 432x288 with 1 Axes>"
            ]
          },
          "metadata": {
            "tags": [],
            "needs_background": "light"
          }
        }
      ]
    },
    {
      "cell_type": "code",
      "metadata": {
        "id": "z44hESpA1w_3",
        "colab_type": "code",
        "colab": {
          "base_uri": "https://localhost:8080/",
          "height": 332
        },
        "outputId": "789e2064-ef91-4427-eb54-b0df88da9cae"
      },
      "source": [
        "# Pixel distribution for digit 1\n",
        "plt.hist(train_digits[14].flat)"
      ],
      "execution_count": 80,
      "outputs": [
        {
          "output_type": "execute_result",
          "data": {
            "text/plain": [
              "(array([713.,  17.,   1.,   2.,  10.,   0.,   4.,   4.,   2.,  31.]),\n",
              " array([  0. ,  25.5,  51. ,  76.5, 102. , 127.5, 153. , 178.5, 204. ,\n",
              "        229.5, 255. ]),\n",
              " <a list of 10 Patch objects>)"
            ]
          },
          "metadata": {
            "tags": []
          },
          "execution_count": 80
        },
        {
          "output_type": "display_data",
          "data": {
            "image/png": "[encoded data removed]",
            "text/plain": [
              "<Figure size 432x288 with 1 Axes>"
            ]
          },
          "metadata": {
            "tags": [],
            "needs_background": "light"
          }
        }
      ]
    },
    {
      "cell_type": "code",
      "metadata": {
        "id": "0Eh02q6c22kZ",
        "colab_type": "code",
        "colab": {
          "base_uri": "https://localhost:8080/",
          "height": 101
        },
        "outputId": "3b843505-a246-4806-8f1f-3bb1d6bf7319"
      },
      "source": [
        "train_digits[0][5:10,22:25]"
      ],
      "execution_count": 81,
      "outputs": [
        {
          "output_type": "execute_result",
          "data": {
            "text/plain": [
              "array([[247, 127,   0],\n",
              "       [195,  64,   0],\n",
              "       [ 39,   0,   0],\n",
              "       [  0,   0,   0],\n",
              "       [  0,   0,   0]], dtype=uint8)"
            ]
          },
          "metadata": {
            "tags": []
          },
          "execution_count": 81
        }
      ]
    },
    {
      "cell_type": "code",
      "metadata": {
        "id": "U6AbuORA3Lha",
        "colab_type": "code",
        "colab": {
          "base_uri": "https://localhost:8080/",
          "height": 34
        },
        "outputId": "b6b9c4ca-d319-4bed-9418-20e482cf6f3d"
      },
      "source": [
        "train_labels[10:20]"
      ],
      "execution_count": 82,
      "outputs": [
        {
          "output_type": "execute_result",
          "data": {
            "text/plain": [
              "array([3, 5, 3, 6, 1, 7, 2, 8, 6, 9], dtype=uint8)"
            ]
          },
          "metadata": {
            "tags": []
          },
          "execution_count": 82
        }
      ]
    },
    {
      "cell_type": "code",
      "metadata": {
        "id": "UHRitVtH4GUH",
        "colab_type": "code",
        "colab": {
          "base_uri": "https://localhost:8080/",
          "height": 282
        },
        "outputId": "02b0f660-e251-4745-a116-b6495685c1a8"
      },
      "source": [
        "plt.imshow(train_digits[14])"
      ],
      "execution_count": 83,
      "outputs": [
        {
          "output_type": "execute_result",
          "data": {
            "text/plain": [
              "<matplotlib.image.AxesImage at 0x7fe630df9780>"
            ]
          },
          "metadata": {
            "tags": []
          },
          "execution_count": 83
        },
        {
          "output_type": "display_data",
          "data": {
            "image/png": "[encoded data removed]",
            "text/plain": [
              "<Figure size 432x288 with 1 Axes>"
            ]
          },
          "metadata": {
            "tags": [],
            "needs_background": "light"
          }
        }
      ]
    },
    {
      "cell_type": "code",
      "metadata": {
        "id": "-meFC3j54WeK",
        "colab_type": "code",
        "colab": {
          "base_uri": "https://localhost:8080/",
          "height": 50
        },
        "outputId": "73cae1d1-9d87-42f7-934b-1b0d62760c18"
      },
      "source": [
        "samples = np.random.randint(train_digits.shape[0],size=16)\n",
        "samples"
      ],
      "execution_count": 84,
      "outputs": [
        {
          "output_type": "execute_result",
          "data": {
            "text/plain": [
              "array([ 3502, 45737, 34583, 42648, 18659, 59434,  1133, 36620,  4013,\n",
              "        2838, 19327, 38104, 49833, 25696, 17207, 51812])"
            ]
          },
          "metadata": {
            "tags": []
          },
          "execution_count": 84
        }
      ]
    },
    {
      "cell_type": "code",
      "metadata": {
        "id": "USTNoucQ5gFD",
        "colab_type": "code",
        "colab": {
          "base_uri": "https://localhost:8080/",
          "height": 733
        },
        "outputId": "be1cd67b-ae52-4050-d297-3c709076a266"
      },
      "source": [
        "plt.figure(figsize=(16,16))\n",
        "j=1\n",
        "for i in samples:\n",
        "  plt.subplot(4,4,j)\n",
        "  plt.imshow(train_digits[i])\n",
        "  plt.title(\"Digit: \"+str(train_labels[i]))\n",
        "  plt.axis(\"off\")\n",
        "  j+=1"
      ],
      "execution_count": 85,
      "outputs": [
        {
          "output_type": "display_data",
          "data": {
            "image/png": "[encoded data removed]",
            "text/plain": [
              "<Figure size 1152x1152 with 16 Axes>"
            ]
          },
          "metadata": {
            "tags": [],
            "needs_background": "light"
          }
        }
      ]
    },
    {
      "cell_type": "code",
      "metadata": {
        "id": "3yYtQkzr6cBd",
        "colab_type": "code",
        "colab": {
          "base_uri": "https://localhost:8080/",
          "height": 733
        },
        "outputId": "11e725c8-bab7-4030-c4de-0d912a4b734a"
      },
      "source": [
        "plt.figure(figsize=(16,16))\n",
        "j=1\n",
        "for i in samples:\n",
        "  plt.subplot(4,4,j)\n",
        "  plt.imshow(train_digits[i],cmap='gray')\n",
        "  plt.title(\"Digit: \"+str(train_labels[i]))\n",
        "  plt.axis(\"off\")\n",
        "  j+=1"
      ],
      "execution_count": 86,
      "outputs": [
        {
          "output_type": "display_data",
          "data": {
            "image/png": "[encoded data removed]",
            "text/plain": [
              "<Figure size 1152x1152 with 16 Axes>"
            ]
          },
          "metadata": {
            "tags": [],
            "needs_background": "light"
          }
        }
      ]
    },
    {
      "cell_type": "code",
      "metadata": {
        "id": "WiMMvPoW7o9r",
        "colab_type": "code",
        "colab": {
          "base_uri": "https://localhost:8080/",
          "height": 731
        },
        "outputId": "03bcc932-6ca6-49d0-c194-b768d3373361"
      },
      "source": [
        "plt.figure(figsize=(16,16))\n",
        "j=1\n",
        "for i in samples:\n",
        "  plt.subplot(4,4,j)\n",
        "  plt.imshow(train_digits[i],cmap='gray')\n",
        "  plt.title(\"Digit: \"+str(train_labels[i]))\n",
        "  #plt.axis(\"off\")\n",
        "  j+=1"
      ],
      "execution_count": 87,
      "outputs": [
        {
          "output_type": "display_data",
          "data": {
            "image/png": "[encoded data removed]",
            "text/plain": [
              "<Figure size 1152x1152 with 16 Axes>"
            ]
          },
          "metadata": {
            "tags": [],
            "needs_background": "light"
          }
        }
      ]
    },
    {
      "cell_type": "code",
      "metadata": {
        "id": "e3_-pRQo7yjS",
        "colab_type": "code",
        "colab": {
          "base_uri": "https://localhost:8080/",
          "height": 729
        },
        "outputId": "3ec09999-7b33-4eb6-b075-c861009b3976"
      },
      "source": [
        "plt.figure(figsize=(16,16))\n",
        "j=1\n",
        "for i in samples:\n",
        "  plt.subplot(4,4,j)\n",
        "  plt.hist(train_digits[i].flat)\n",
        "  plt.title(\"Digit: \"+str(train_labels[i]))\n",
        "  plt.axis(\"off\")\n",
        "  j+=1"
      ],
      "execution_count": 88,
      "outputs": [
        {
          "output_type": "display_data",
          "data": {
            "image/png": "[encoded data removed]",
            "text/plain": [
              "<Figure size 1152x1152 with 16 Axes>"
            ]
          },
          "metadata": {
            "tags": [],
            "needs_background": "light"
          }
        }
      ]
    },
    {
      "cell_type": "code",
      "metadata": {
        "id": "ExYa0AUp7-eS",
        "colab_type": "code",
        "colab": {
          "base_uri": "https://localhost:8080/",
          "height": 722
        },
        "outputId": "f576cee7-e08e-43a3-950f-1259a2898976"
      },
      "source": [
        "plt.figure(figsize=(16,16))\n",
        "j=1\n",
        "for i in samples:\n",
        "  plt.subplot(4,4,j)\n",
        "  plt.hist(train_digits[i].flat)\n",
        "  plt.title(\"Digit: \"+str(train_labels[i]))\n",
        " # plt.axis(\"off\")\n",
        "  j+=1"
      ],
      "execution_count": 89,
      "outputs": [
        {
          "output_type": "display_data",
          "data": {
            "image/png": "[encoded data removed]",
            "text/plain": [
              "<Figure size 1152x1152 with 16 Axes>"
            ]
          },
          "metadata": {
            "tags": [],
            "needs_background": "light"
          }
        }
      ]
    },
    {
      "cell_type": "markdown",
      "metadata": {
        "id": "1P7sL-ur8eDi",
        "colab_type": "text"
      },
      "source": [
        "# Preprocessing"
      ]
    },
    {
      "cell_type": "markdown",
      "metadata": {
        "id": "2i-Nwviw8kBu",
        "colab_type": "text"
      },
      "source": [
        "### Scaling"
      ]
    },
    {
      "cell_type": "code",
      "metadata": {
        "id": "4bU1RYBt8Chq",
        "colab_type": "code",
        "colab": {}
      },
      "source": [
        "## pixel  values are from 0 to 255\n",
        "train_digits_sc = train_digits/255.0\n",
        "test_digits_sc = test_digits/255.0"
      ],
      "execution_count": 90,
      "outputs": []
    },
    {
      "cell_type": "code",
      "metadata": {
        "id": "0DbcmgiA834D",
        "colab_type": "code",
        "colab": {
          "base_uri": "https://localhost:8080/",
          "height": 34
        },
        "outputId": "9d1c2cff-d08c-4129-e61b-8308481c7f42"
      },
      "source": [
        "train_labels"
      ],
      "execution_count": 91,
      "outputs": [
        {
          "output_type": "execute_result",
          "data": {
            "text/plain": [
              "array([5, 0, 4, ..., 5, 6, 8], dtype=uint8)"
            ]
          },
          "metadata": {
            "tags": []
          },
          "execution_count": 91
        }
      ]
    },
    {
      "cell_type": "code",
      "metadata": {
        "id": "ZBBduCqp86CD",
        "colab_type": "code",
        "colab": {}
      },
      "source": [
        "from keras.utils import to_categorical"
      ],
      "execution_count": 92,
      "outputs": []
    },
    {
      "cell_type": "code",
      "metadata": {
        "id": "6bhFjZ688_fe",
        "colab_type": "code",
        "colab": {}
      },
      "source": [
        "train_labels_cat = to_categorical(train_labels)"
      ],
      "execution_count": 93,
      "outputs": []
    },
    {
      "cell_type": "code",
      "metadata": {
        "id": "prqBbU_h9Koa",
        "colab_type": "code",
        "colab": {
          "base_uri": "https://localhost:8080/",
          "height": 34
        },
        "outputId": "b136b9d0-21fa-4769-d0ee-02f6b3dec74f"
      },
      "source": [
        "train_labels_cat[0]"
      ],
      "execution_count": 94,
      "outputs": [
        {
          "output_type": "execute_result",
          "data": {
            "text/plain": [
              "array([0., 0., 0., 0., 0., 1., 0., 0., 0., 0.], dtype=float32)"
            ]
          },
          "metadata": {
            "tags": []
          },
          "execution_count": 94
        }
      ]
    },
    {
      "cell_type": "code",
      "metadata": {
        "id": "5oFo5xH89OGu",
        "colab_type": "code",
        "colab": {
          "base_uri": "https://localhost:8080/",
          "height": 34
        },
        "outputId": "740d1da9-febe-49c1-8eb4-9c00fa730401"
      },
      "source": [
        "test_labels_cat = to_categorical(test_labels)\n",
        "test_labels_cat[9]"
      ],
      "execution_count": 95,
      "outputs": [
        {
          "output_type": "execute_result",
          "data": {
            "text/plain": [
              "array([0., 0., 0., 0., 0., 0., 0., 0., 0., 1.], dtype=float32)"
            ]
          },
          "metadata": {
            "tags": []
          },
          "execution_count": 95
        }
      ]
    },
    {
      "cell_type": "markdown",
      "metadata": {
        "id": "swpFr3Ng-YlR",
        "colab_type": "text"
      },
      "source": [
        "# Split the train data to train and validation"
      ]
    },
    {
      "cell_type": "code",
      "metadata": {
        "id": "UH8FsMdF9ej2",
        "colab_type": "code",
        "colab": {
          "base_uri": "https://localhost:8080/",
          "height": 84
        },
        "outputId": "34f0e4c2-d8e3-4062-a2db-0c5f98aa5fe6"
      },
      "source": [
        "from sklearn.model_selection import train_test_split\n",
        "X_train,X_val,y_train,y_val=train_test_split(train_digits_sc,train_labels_cat,test_size=0.1,random_state=32)\n",
        "print(X_train.shape)\n",
        "print(X_val.shape)\n",
        "print(y_train.shape)\n",
        "print(y_val.shape)"
      ],
      "execution_count": 96,
      "outputs": [
        {
          "output_type": "stream",
          "text": [
            "(54000, 28, 28)\n",
            "(6000, 28, 28)\n",
            "(54000, 10)\n",
            "(6000, 10)\n"
          ],
          "name": "stdout"
        }
      ]
    },
    {
      "cell_type": "markdown",
      "metadata": {
        "id": "AqXxQEUV_Y-R",
        "colab_type": "text"
      },
      "source": [
        "## Build and Train the model"
      ]
    },
    {
      "cell_type": "markdown",
      "metadata": {
        "id": "dZY7G9Di_dnB",
        "colab_type": "text"
      },
      "source": [
        "#### Build the model\n",
        "We need to take 1d array as input for Dense layer<br>\n",
        "How many Hidden layers you want to add here?<br>\n",
        "How many neurons in each hidden layer?<br>\n",
        "What is activation function for the hidden layers?<br>\n",
        "How many neurons we should take in the output layer?<br>\n",
        "What is the activation function for the output layer<br>"
      ]
    },
    {
      "cell_type": "code",
      "metadata": {
        "id": "EyIWT6QO_Umv",
        "colab_type": "code",
        "colab": {}
      },
      "source": [
        "## import the methods required\n",
        "from keras.models import Sequential\n",
        "from keras.layers import Dense,Flatten"
      ],
      "execution_count": 97,
      "outputs": []
    },
    {
      "cell_type": "code",
      "metadata": {
        "id": "wuMjmxjiC2uE",
        "colab_type": "code",
        "colab": {
          "base_uri": "https://localhost:8080/",
          "height": 353
        },
        "outputId": "a7046b72-7cc3-46cf-ceaa-35954e36ff33"
      },
      "source": [
        "## We are creating the base model\n",
        "model = Sequential()\n",
        "# first layer we need to mention the input shape\n",
        "\n",
        "model.add(Flatten(input_shape=(28,28)))\n",
        "## 784 pixel values as input to this Dense. 128 Neurons in the layers\n",
        "model.add(Dense(128,activation='relu'))# 784 * 128+128\n",
        "model.add(Dense(128,activation='relu'))# \n",
        "model.add(Dense(64,activation='relu'))\n",
        "model.add(Dense(256,activation='relu'))\n",
        "#Final layer\n",
        "model.add(Dense(10,activation='softmax'))\n",
        "model.summary()\n"
      ],
      "execution_count": 98,
      "outputs": [
        {
          "output_type": "stream",
          "text": [
            "Model: \"sequential_3\"\n",
            "_________________________________________________________________\n",
            "Layer (type)                 Output Shape              Param #   \n",
            "=================================================================\n",
            "flatten_3 (Flatten)          (None, 784)               0         \n",
            "_________________________________________________________________\n",
            "dense_10 (Dense)             (None, 128)               100480    \n",
            "_________________________________________________________________\n",
            "dense_11 (Dense)             (None, 128)               16512     \n",
            "_________________________________________________________________\n",
            "dense_12 (Dense)             (None, 64)                8256      \n",
            "_________________________________________________________________\n",
            "dense_13 (Dense)             (None, 256)               16640     \n",
            "_________________________________________________________________\n",
            "dense_14 (Dense)             (None, 10)                2570      \n",
            "=================================================================\n",
            "Total params: 144,458\n",
            "Trainable params: 144,458\n",
            "Non-trainable params: 0\n",
            "_________________________________________________________________\n"
          ],
          "name": "stdout"
        }
      ]
    },
    {
      "cell_type": "markdown",
      "metadata": {
        "id": "bwDvM8eGHObn",
        "colab_type": "text"
      },
      "source": [
        "### Compile the model<br>\n",
        "What is the loss function?<br>\n",
        "What is the optimizer?<br>\n",
        "what are the metrics?<br>"
      ]
    },
    {
      "cell_type": "code",
      "metadata": {
        "id": "FsrmJPjUFETs",
        "colab_type": "code",
        "colab": {}
      },
      "source": [
        "model.compile(optimizer='adam',loss=tf.keras.losses.CategoricalCrossentropy(),metrics=['accuracy'])"
      ],
      "execution_count": 99,
      "outputs": []
    },
    {
      "cell_type": "markdown",
      "metadata": {
        "id": "NkI8tlG0JExC",
        "colab_type": "text"
      },
      "source": [
        "# Training the model"
      ]
    },
    {
      "cell_type": "code",
      "metadata": {
        "id": "jI2i_lBYIaEg",
        "colab_type": "code",
        "colab": {
          "base_uri": "https://localhost:8080/",
          "height": 390
        },
        "outputId": "7dd9ef8e-da4e-436d-92b1-ebf0a30415ca"
      },
      "source": [
        "history=model.fit(x=X_train,y=y_train,epochs=10,\\\n",
        "          validation_data=(X_val,y_val),batch_size=32)"
      ],
      "execution_count": 100,
      "outputs": [
        {
          "output_type": "stream",
          "text": [
            "Train on 54000 samples, validate on 6000 samples\n",
            "Epoch 1/10\n",
            "54000/54000 [==============================] - 6s 105us/step - loss: 0.2545 - accuracy: 0.9216 - val_loss: 0.1725 - val_accuracy: 0.9478\n",
            "Epoch 2/10\n",
            "54000/54000 [==============================] - 5s 102us/step - loss: 0.1149 - accuracy: 0.9653 - val_loss: 0.1190 - val_accuracy: 0.9672\n",
            "Epoch 3/10\n",
            "54000/54000 [==============================] - 5s 101us/step - loss: 0.0796 - accuracy: 0.9756 - val_loss: 0.1159 - val_accuracy: 0.9677\n",
            "Epoch 4/10\n",
            "54000/54000 [==============================] - 5s 101us/step - loss: 0.0663 - accuracy: 0.9794 - val_loss: 0.1033 - val_accuracy: 0.9720\n",
            "Epoch 5/10\n",
            "54000/54000 [==============================] - 5s 101us/step - loss: 0.0536 - accuracy: 0.9831 - val_loss: 0.1136 - val_accuracy: 0.9695\n",
            "Epoch 6/10\n",
            "54000/54000 [==============================] - 6s 102us/step - loss: 0.0451 - accuracy: 0.9857 - val_loss: 0.1076 - val_accuracy: 0.9722\n",
            "Epoch 7/10\n",
            "54000/54000 [==============================] - 6s 105us/step - loss: 0.0401 - accuracy: 0.9871 - val_loss: 0.1100 - val_accuracy: 0.9730\n",
            "Epoch 8/10\n",
            "54000/54000 [==============================] - 6s 105us/step - loss: 0.0341 - accuracy: 0.9893 - val_loss: 0.1066 - val_accuracy: 0.9755\n",
            "Epoch 9/10\n",
            "54000/54000 [==============================] - 6s 105us/step - loss: 0.0297 - accuracy: 0.9906 - val_loss: 0.1170 - val_accuracy: 0.9707\n",
            "Epoch 10/10\n",
            "54000/54000 [==============================] - 6s 105us/step - loss: 0.0284 - accuracy: 0.9911 - val_loss: 0.0986 - val_accuracy: 0.9768\n"
          ],
          "name": "stdout"
        }
      ]
    },
    {
      "cell_type": "markdown",
      "metadata": {
        "id": "Ki0FTzjgOfND",
        "colab_type": "text"
      },
      "source": [
        "# Evaluating the model"
      ]
    },
    {
      "cell_type": "code",
      "metadata": {
        "id": "1Xzgfzn3J7pC",
        "colab_type": "code",
        "colab": {
          "base_uri": "https://localhost:8080/",
          "height": 50
        },
        "outputId": "2ba9b750-607c-435d-a8ae-0fc26cf03b2b"
      },
      "source": [
        "model.evaluate(test_digits_sc,test_labels_cat)"
      ],
      "execution_count": 101,
      "outputs": [
        {
          "output_type": "stream",
          "text": [
            "10000/10000 [==============================] - 0s 28us/step\n"
          ],
          "name": "stdout"
        },
        {
          "output_type": "execute_result",
          "data": {
            "text/plain": [
              "[0.08555738586522056, 0.9782999753952026]"
            ]
          },
          "metadata": {
            "tags": []
          },
          "execution_count": 101
        }
      ]
    },
    {
      "cell_type": "code",
      "metadata": {
        "id": "gXPf31s6O3x8",
        "colab_type": "code",
        "colab": {
          "base_uri": "https://localhost:8080/",
          "height": 67
        },
        "outputId": "2307e9b9-4e78-4d77-9fd4-7a7132762f48"
      },
      "source": [
        "print(test_digits_sc.shape)\n",
        "print(test_digits_sc[0].shape)\n",
        "print(np.expand_dims(test_digits_sc[0],axis=0).shape)"
      ],
      "execution_count": 102,
      "outputs": [
        {
          "output_type": "stream",
          "text": [
            "(10000, 28, 28)\n",
            "(28, 28)\n",
            "(1, 28, 28)\n"
          ],
          "name": "stdout"
        }
      ]
    },
    {
      "cell_type": "code",
      "metadata": {
        "id": "aUVv5l_xOZ8v",
        "colab_type": "code",
        "colab": {
          "base_uri": "https://localhost:8080/",
          "height": 67
        },
        "outputId": "12aaebbb-7c45-4f68-dc3a-65fc46328242"
      },
      "source": [
        "model.predict(np.expand_dims(test_digits_sc[0],axis=0))"
      ],
      "execution_count": 103,
      "outputs": [
        {
          "output_type": "execute_result",
          "data": {
            "text/plain": [
              "array([[3.1451757e-16, 1.9658195e-11, 3.0606659e-09, 3.2174999e-10,\n",
              "        1.8645903e-11, 1.3299351e-14, 1.2202650e-19, 1.0000000e+00,\n",
              "        1.9661195e-11, 4.7163451e-09]], dtype=float32)"
            ]
          },
          "metadata": {
            "tags": []
          },
          "execution_count": 103
        }
      ]
    },
    {
      "cell_type": "code",
      "metadata": {
        "id": "dKUFDSadPkZ9",
        "colab_type": "code",
        "colab": {
          "base_uri": "https://localhost:8080/",
          "height": 521
        },
        "outputId": "9795e4be-2009-43fe-d819-60b812e3528c"
      },
      "source": [
        "model.predict(test_digits_sc[:10])"
      ],
      "execution_count": 104,
      "outputs": [
        {
          "output_type": "execute_result",
          "data": {
            "text/plain": [
              "array([[3.14516383e-16, 1.96581206e-11, 3.06066017e-09, 3.21750598e-10,\n",
              "        1.86458314e-11, 1.32993507e-14, 1.22026033e-19, 1.00000000e+00,\n",
              "        1.96611963e-11, 4.71633665e-09],\n",
              "       [6.78356815e-11, 6.34482328e-11, 1.00000000e+00, 2.25592526e-12,\n",
              "        1.12989951e-09, 6.79299688e-14, 1.15764838e-08, 5.86430730e-12,\n",
              "        2.79479528e-09, 2.41444095e-19],\n",
              "       [1.36369110e-10, 9.99874473e-01, 3.74988485e-06, 3.63441224e-08,\n",
              "        6.90375964e-06, 1.77337278e-09, 1.09659453e-07, 4.26185652e-05,\n",
              "        7.20517783e-05, 1.87302640e-09],\n",
              "       [9.99275386e-01, 6.33309227e-08, 5.38179127e-04, 7.57544512e-07,\n",
              "        1.80277232e-06, 1.56318606e-07, 4.38814004e-06, 2.25977101e-06,\n",
              "        5.67504503e-05, 1.20291130e-04],\n",
              "       [5.62383384e-08, 4.29522697e-06, 4.90045636e-07, 4.06451797e-08,\n",
              "        9.99776185e-01, 1.11881752e-06, 6.02003820e-06, 1.51210297e-05,\n",
              "        3.30218381e-06, 1.93330765e-04],\n",
              "       [1.88126356e-13, 9.99996066e-01, 4.08388559e-08, 3.30331290e-10,\n",
              "        5.24140546e-07, 6.06121002e-13, 1.00759380e-10, 1.95977054e-06,\n",
              "        1.38116343e-06, 1.46532682e-11],\n",
              "       [1.84325202e-07, 5.97582875e-05, 3.32937702e-06, 8.20249534e-06,\n",
              "        9.98213291e-01, 5.86215174e-05, 3.81050995e-05, 2.57928274e-04,\n",
              "        4.79432580e-04, 8.81141925e-04],\n",
              "       [1.29739958e-04, 4.45348705e-05, 3.69495174e-05, 1.63086299e-02,\n",
              "        1.33889116e-04, 2.32240348e-03, 5.09752311e-08, 5.48746961e-04,\n",
              "        3.16700258e-04, 9.80158389e-01],\n",
              "       [3.01513919e-05, 1.00937314e-07, 2.38711465e-07, 1.42524891e-06,\n",
              "        1.12362727e-06, 8.49769652e-01, 1.50171876e-01, 1.82815874e-09,\n",
              "        2.46173695e-05, 7.90795241e-07],\n",
              "       [1.61743383e-10, 1.30054245e-10, 1.33950023e-12, 1.04302444e-09,\n",
              "        4.00779854e-08, 8.89366011e-11, 7.80927478e-16, 3.76853990e-07,\n",
              "        6.37712327e-09, 9.99999523e-01]], dtype=float32)"
            ]
          },
          "metadata": {
            "tags": []
          },
          "execution_count": 104
        }
      ]
    },
    {
      "cell_type": "code",
      "metadata": {
        "id": "YYcUXBU9QAFe",
        "colab_type": "code",
        "colab": {
          "base_uri": "https://localhost:8080/",
          "height": 34
        },
        "outputId": "ca3d548c-de51-4469-aa6d-214f0eaca02c"
      },
      "source": [
        "model.predict_classes(np.expand_dims(test_digits_sc[0],axis=0))"
      ],
      "execution_count": 105,
      "outputs": [
        {
          "output_type": "execute_result",
          "data": {
            "text/plain": [
              "array([7])"
            ]
          },
          "metadata": {
            "tags": []
          },
          "execution_count": 105
        }
      ]
    },
    {
      "cell_type": "code",
      "metadata": {
        "id": "Am6eP9pYQ_Lp",
        "colab_type": "code",
        "colab": {
          "base_uri": "https://localhost:8080/",
          "height": 67
        },
        "outputId": "4684ff1e-544b-4313-ed4f-1f0ca795f5a5"
      },
      "source": [
        "model.predict_proba(np.expand_dims(test_digits_sc[0],axis=0))"
      ],
      "execution_count": 106,
      "outputs": [
        {
          "output_type": "execute_result",
          "data": {
            "text/plain": [
              "array([[3.1451757e-16, 1.9658195e-11, 3.0606659e-09, 3.2174999e-10,\n",
              "        1.8645903e-11, 1.3299351e-14, 1.2202650e-19, 1.0000000e+00,\n",
              "        1.9661195e-11, 4.7163451e-09]], dtype=float32)"
            ]
          },
          "metadata": {
            "tags": []
          },
          "execution_count": 106
        }
      ]
    },
    {
      "cell_type": "code",
      "metadata": {
        "id": "ixXqoqljRUtg",
        "colab_type": "code",
        "colab": {
          "base_uri": "https://localhost:8080/",
          "height": 840
        },
        "outputId": "d78c8ccc-ebf1-4520-e293-b222b6af46dd"
      },
      "source": [
        "dir(history)"
      ],
      "execution_count": 107,
      "outputs": [
        {
          "output_type": "execute_result",
          "data": {
            "text/plain": [
              "['__class__',\n",
              " '__delattr__',\n",
              " '__dict__',\n",
              " '__dir__',\n",
              " '__doc__',\n",
              " '__eq__',\n",
              " '__format__',\n",
              " '__ge__',\n",
              " '__getattribute__',\n",
              " '__gt__',\n",
              " '__hash__',\n",
              " '__init__',\n",
              " '__init_subclass__',\n",
              " '__le__',\n",
              " '__lt__',\n",
              " '__module__',\n",
              " '__ne__',\n",
              " '__new__',\n",
              " '__reduce__',\n",
              " '__reduce_ex__',\n",
              " '__repr__',\n",
              " '__setattr__',\n",
              " '__sizeof__',\n",
              " '__str__',\n",
              " '__subclasshook__',\n",
              " '__weakref__',\n",
              " 'epoch',\n",
              " 'history',\n",
              " 'model',\n",
              " 'on_batch_begin',\n",
              " 'on_batch_end',\n",
              " 'on_epoch_begin',\n",
              " 'on_epoch_end',\n",
              " 'on_predict_batch_begin',\n",
              " 'on_predict_batch_end',\n",
              " 'on_predict_begin',\n",
              " 'on_predict_end',\n",
              " 'on_test_batch_begin',\n",
              " 'on_test_batch_end',\n",
              " 'on_test_begin',\n",
              " 'on_test_end',\n",
              " 'on_train_batch_begin',\n",
              " 'on_train_batch_end',\n",
              " 'on_train_begin',\n",
              " 'on_train_end',\n",
              " 'params',\n",
              " 'set_model',\n",
              " 'set_params',\n",
              " 'validation_data']"
            ]
          },
          "metadata": {
            "tags": []
          },
          "execution_count": 107
        }
      ]
    },
    {
      "cell_type": "code",
      "metadata": {
        "id": "-B88CfnrRbbm",
        "colab_type": "code",
        "colab": {
          "base_uri": "https://localhost:8080/",
          "height": 689
        },
        "outputId": "15c28c3a-c704-4216-fd91-53d19f85450e"
      },
      "source": [
        "history.history"
      ],
      "execution_count": 108,
      "outputs": [
        {
          "output_type": "execute_result",
          "data": {
            "text/plain": [
              "{'accuracy': [0.92164814,\n",
              "  0.96529627,\n",
              "  0.97555554,\n",
              "  0.9794074,\n",
              "  0.98307407,\n",
              "  0.9857037,\n",
              "  0.98705554,\n",
              "  0.98933333,\n",
              "  0.9906296,\n",
              "  0.9911482],\n",
              " 'loss': [0.2545107076082517,\n",
              "  0.11488417095380525,\n",
              "  0.07957259142022856,\n",
              "  0.06626839306250353,\n",
              "  0.053626044027352084,\n",
              "  0.04512395053499602,\n",
              "  0.040092728650212475,\n",
              "  0.03406633290736957,\n",
              "  0.029711840891551995,\n",
              "  0.028393787880625396],\n",
              " 'val_accuracy': [0.9478333592414856,\n",
              "  0.9671666622161865,\n",
              "  0.9676666855812073,\n",
              "  0.972000002861023,\n",
              "  0.9695000052452087,\n",
              "  0.9721666574478149,\n",
              "  0.9729999899864197,\n",
              "  0.9754999876022339,\n",
              "  0.9706666469573975,\n",
              "  0.9768333435058594],\n",
              " 'val_loss': [0.17245072840154171,\n",
              "  0.11904864161026975,\n",
              "  0.11593842479027808,\n",
              "  0.10326538987488797,\n",
              "  0.11361862318372974,\n",
              "  0.10759024619186917,\n",
              "  0.11004455170454458,\n",
              "  0.10662598117107215,\n",
              "  0.11697628896217793,\n",
              "  0.09864790492799753]}"
            ]
          },
          "metadata": {
            "tags": []
          },
          "execution_count": 108
        }
      ]
    },
    {
      "cell_type": "code",
      "metadata": {
        "id": "edk8aSMIRd6M",
        "colab_type": "code",
        "colab": {
          "base_uri": "https://localhost:8080/",
          "height": 34
        },
        "outputId": "97912240-66fe-416e-d605-b07b5b4a5eb4"
      },
      "source": [
        "history.history.keys()"
      ],
      "execution_count": 109,
      "outputs": [
        {
          "output_type": "execute_result",
          "data": {
            "text/plain": [
              "dict_keys(['val_loss', 'val_accuracy', 'loss', 'accuracy'])"
            ]
          },
          "metadata": {
            "tags": []
          },
          "execution_count": 109
        }
      ]
    },
    {
      "cell_type": "code",
      "metadata": {
        "id": "H-umcz-xRhc7",
        "colab_type": "code",
        "colab": {
          "base_uri": "https://localhost:8080/",
          "height": 282
        },
        "outputId": "f223661e-b61e-4c15-ab71-123d67a7596e"
      },
      "source": [
        "plt.plot(range(1,11),history.history['accuracy'])\n",
        "plt.plot(range(1,11),history.history['val_accuracy'])\n"
      ],
      "execution_count": 111,
      "outputs": [
        {
          "output_type": "execute_result",
          "data": {
            "text/plain": [
              "[<matplotlib.lines.Line2D at 0x7fe631b4cfd0>]"
            ]
          },
          "metadata": {
            "tags": []
          },
          "execution_count": 111
        },
        {
          "output_type": "display_data",
          "data": {
            "image/png": "[encoded data removed]",
            "text/plain": [
              "<Figure size 432x288 with 1 Axes>"
            ]
          },
          "metadata": {
            "tags": [],
            "needs_background": "light"
          }
        }
      ]
    },
    {
      "cell_type": "code",
      "metadata": {
        "id": "MNWfumTfRzv1",
        "colab_type": "code",
        "colab": {}
      },
      "source": [
        ""
      ],
      "execution_count": 110,
      "outputs": []
    }
  ]
}